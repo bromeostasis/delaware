{
 "cells": [
  {
   "cell_type": "code",
   "execution_count": 9,
   "id": "acc725ea",
   "metadata": {},
   "outputs": [
    {
     "name": "stderr",
     "output_type": "stream",
     "text": [
      "WARNING:root:Requests made without an app_token will be subject to strict throttling limits.\n"
     ]
    },
    {
     "data": {
      "text/plain": [
       "6000"
      ]
     },
     "execution_count": 9,
     "metadata": {},
     "output_type": "execute_result"
    }
   ],
   "source": [
    "#!/usr/bin/env python\n",
    "\n",
    "# make sure to install these packages before running:\n",
    "# pip install pandas\n",
    "# pip install sodapy\n",
    "\n",
    "import pandas as pd\n",
    "from sodapy import Socrata\n",
    "\n",
    "# Unauthenticated client only works with public data sets. Note 'None'\n",
    "# in place of application token, and no username or password:\n",
    "client = Socrata(\"healthdata.gov\", None)\n",
    "\n",
    "# Example authenticated client (needed for non-public datasets):\n",
    "# client = Socrata(healthdata.gov,\n",
    "#                  MyAppToken,\n",
    "#                  username=\"user@example.com\",\n",
    "#                  password=\"AFakePassword\")\n",
    "\n",
    "# First 2000 results, returned as JSON from API / converted to Python list of\n",
    "# dictionaries by sodapy.\n",
    "results = client.get(\"j8mb-icvb\", order='total_results_reported DESC', limit=6000)\n",
    "\n",
    "# Convert to pandas DataFrame\n",
    "df = pd.DataFrame.from_records(results)\n",
    "\n",
    "len(df)"
   ]
  },
  {
   "cell_type": "code",
   "execution_count": 14,
   "id": "71329f9e",
   "metadata": {},
   "outputs": [],
   "source": [
    "df = pd.read_csv('data/Dataset.csv')"
   ]
  },
  {
   "cell_type": "code",
   "execution_count": 15,
   "id": "a7160c29",
   "metadata": {},
   "outputs": [
    {
     "data": {
      "text/html": [
       "<div>\n",
       "<style scoped>\n",
       "    .dataframe tbody tr th:only-of-type {\n",
       "        vertical-align: middle;\n",
       "    }\n",
       "\n",
       "    .dataframe tbody tr th {\n",
       "        vertical-align: top;\n",
       "    }\n",
       "\n",
       "    .dataframe thead th {\n",
       "        text-align: right;\n",
       "    }\n",
       "</style>\n",
       "<table border=\"1\" class=\"dataframe\">\n",
       "  <thead>\n",
       "    <tr style=\"text-align: right;\">\n",
       "      <th></th>\n",
       "      <th>state</th>\n",
       "      <th>state_name</th>\n",
       "      <th>state_fips</th>\n",
       "      <th>fema_region</th>\n",
       "      <th>overall_outcome</th>\n",
       "      <th>date</th>\n",
       "      <th>new_results_reported</th>\n",
       "      <th>total_results_reported</th>\n",
       "      <th>geocoded_state</th>\n",
       "    </tr>\n",
       "  </thead>\n",
       "  <tbody>\n",
       "    <tr>\n",
       "      <th>0</th>\n",
       "      <td>AL</td>\n",
       "      <td>Alabama</td>\n",
       "      <td>1</td>\n",
       "      <td>Region 4</td>\n",
       "      <td>Negative</td>\n",
       "      <td>2020/03/01</td>\n",
       "      <td>96</td>\n",
       "      <td>96</td>\n",
       "      <td>NaN</td>\n",
       "    </tr>\n",
       "    <tr>\n",
       "      <th>1</th>\n",
       "      <td>AL</td>\n",
       "      <td>Alabama</td>\n",
       "      <td>1</td>\n",
       "      <td>Region 4</td>\n",
       "      <td>Positive</td>\n",
       "      <td>2020/03/01</td>\n",
       "      <td>16</td>\n",
       "      <td>16</td>\n",
       "      <td>NaN</td>\n",
       "    </tr>\n",
       "    <tr>\n",
       "      <th>2</th>\n",
       "      <td>AL</td>\n",
       "      <td>Alabama</td>\n",
       "      <td>1</td>\n",
       "      <td>Region 4</td>\n",
       "      <td>Negative</td>\n",
       "      <td>2020/03/02</td>\n",
       "      <td>72</td>\n",
       "      <td>168</td>\n",
       "      <td>NaN</td>\n",
       "    </tr>\n",
       "    <tr>\n",
       "      <th>3</th>\n",
       "      <td>AL</td>\n",
       "      <td>Alabama</td>\n",
       "      <td>1</td>\n",
       "      <td>Region 4</td>\n",
       "      <td>Positive</td>\n",
       "      <td>2020/03/02</td>\n",
       "      <td>6</td>\n",
       "      <td>22</td>\n",
       "      <td>NaN</td>\n",
       "    </tr>\n",
       "    <tr>\n",
       "      <th>4</th>\n",
       "      <td>AL</td>\n",
       "      <td>Alabama</td>\n",
       "      <td>1</td>\n",
       "      <td>Region 4</td>\n",
       "      <td>Negative</td>\n",
       "      <td>2020/03/03</td>\n",
       "      <td>94</td>\n",
       "      <td>262</td>\n",
       "      <td>NaN</td>\n",
       "    </tr>\n",
       "  </tbody>\n",
       "</table>\n",
       "</div>"
      ],
      "text/plain": [
       "  state state_name  state_fips fema_region overall_outcome        date  \\\n",
       "0    AL    Alabama           1    Region 4        Negative  2020/03/01   \n",
       "1    AL    Alabama           1    Region 4        Positive  2020/03/01   \n",
       "2    AL    Alabama           1    Region 4        Negative  2020/03/02   \n",
       "3    AL    Alabama           1    Region 4        Positive  2020/03/02   \n",
       "4    AL    Alabama           1    Region 4        Negative  2020/03/03   \n",
       "\n",
       "   new_results_reported  total_results_reported  geocoded_state  \n",
       "0                    96                      96             NaN  \n",
       "1                    16                      16             NaN  \n",
       "2                    72                     168             NaN  \n",
       "3                     6                      22             NaN  \n",
       "4                    94                     262             NaN  "
      ]
     },
     "execution_count": 15,
     "metadata": {},
     "output_type": "execute_result"
    }
   ],
   "source": [
    "len(df)\n",
    "df.head()"
   ]
  },
  {
   "cell_type": "code",
   "execution_count": 25,
   "id": "4592f006",
   "metadata": {},
   "outputs": [
    {
     "data": {
      "text/plain": [
       "38099"
      ]
     },
     "execution_count": 25,
     "metadata": {},
     "output_type": "execute_result"
    }
   ],
   "source": [
    "df.query('state == \"NC\" and overall_outcome == \"Inconclusive\"')['total_results_reported'].max()"
   ]
  },
  {
   "cell_type": "code",
   "execution_count": 21,
   "id": "3a8f3803",
   "metadata": {},
   "outputs": [
    {
     "data": {
      "text/html": [
       "<div>\n",
       "<style scoped>\n",
       "    .dataframe tbody tr th:only-of-type {\n",
       "        vertical-align: middle;\n",
       "    }\n",
       "\n",
       "    .dataframe tbody tr th {\n",
       "        vertical-align: top;\n",
       "    }\n",
       "\n",
       "    .dataframe thead th {\n",
       "        text-align: right;\n",
       "    }\n",
       "</style>\n",
       "<table border=\"1\" class=\"dataframe\">\n",
       "  <thead>\n",
       "    <tr style=\"text-align: right;\">\n",
       "      <th></th>\n",
       "      <th>state</th>\n",
       "      <th>state_name</th>\n",
       "      <th>state_fips</th>\n",
       "      <th>fema_region</th>\n",
       "      <th>overall_outcome</th>\n",
       "      <th>date</th>\n",
       "      <th>new_results_reported</th>\n",
       "      <th>total_results_reported</th>\n",
       "      <th>geocoded_state</th>\n",
       "    </tr>\n",
       "  </thead>\n",
       "  <tbody>\n",
       "    <tr>\n",
       "      <th>118105</th>\n",
       "      <td>NC</td>\n",
       "      <td>North Carolina</td>\n",
       "      <td>37</td>\n",
       "      <td>Region 4</td>\n",
       "      <td>Negative</td>\n",
       "      <td>2023/03/24</td>\n",
       "      <td>5403</td>\n",
       "      <td>23354964</td>\n",
       "      <td>NaN</td>\n",
       "    </tr>\n",
       "    <tr>\n",
       "      <th>118106</th>\n",
       "      <td>NC</td>\n",
       "      <td>North Carolina</td>\n",
       "      <td>37</td>\n",
       "      <td>Region 4</td>\n",
       "      <td>Positive</td>\n",
       "      <td>2023/03/24</td>\n",
       "      <td>316</td>\n",
       "      <td>3061329</td>\n",
       "      <td>NaN</td>\n",
       "    </tr>\n",
       "    <tr>\n",
       "      <th>118107</th>\n",
       "      <td>NC</td>\n",
       "      <td>North Carolina</td>\n",
       "      <td>37</td>\n",
       "      <td>Region 4</td>\n",
       "      <td>Inconclusive</td>\n",
       "      <td>2023/03/25</td>\n",
       "      <td>0</td>\n",
       "      <td>38099</td>\n",
       "      <td>NaN</td>\n",
       "    </tr>\n",
       "    <tr>\n",
       "      <th>118108</th>\n",
       "      <td>NC</td>\n",
       "      <td>North Carolina</td>\n",
       "      <td>37</td>\n",
       "      <td>Region 4</td>\n",
       "      <td>Negative</td>\n",
       "      <td>2023/03/25</td>\n",
       "      <td>2651</td>\n",
       "      <td>23357615</td>\n",
       "      <td>NaN</td>\n",
       "    </tr>\n",
       "    <tr>\n",
       "      <th>118109</th>\n",
       "      <td>NC</td>\n",
       "      <td>North Carolina</td>\n",
       "      <td>37</td>\n",
       "      <td>Region 4</td>\n",
       "      <td>Positive</td>\n",
       "      <td>2023/03/25</td>\n",
       "      <td>189</td>\n",
       "      <td>3061518</td>\n",
       "      <td>NaN</td>\n",
       "    </tr>\n",
       "  </tbody>\n",
       "</table>\n",
       "</div>"
      ],
      "text/plain": [
       "       state      state_name  state_fips fema_region overall_outcome  \\\n",
       "118105    NC  North Carolina          37    Region 4        Negative   \n",
       "118106    NC  North Carolina          37    Region 4        Positive   \n",
       "118107    NC  North Carolina          37    Region 4    Inconclusive   \n",
       "118108    NC  North Carolina          37    Region 4        Negative   \n",
       "118109    NC  North Carolina          37    Region 4        Positive   \n",
       "\n",
       "              date  new_results_reported  total_results_reported  \\\n",
       "118105  2023/03/24                  5403                23354964   \n",
       "118106  2023/03/24                   316                 3061329   \n",
       "118107  2023/03/25                     0                   38099   \n",
       "118108  2023/03/25                  2651                23357615   \n",
       "118109  2023/03/25                   189                 3061518   \n",
       "\n",
       "        geocoded_state  \n",
       "118105             NaN  \n",
       "118106             NaN  \n",
       "118107             NaN  \n",
       "118108             NaN  \n",
       "118109             NaN  "
      ]
     },
     "execution_count": 21,
     "metadata": {},
     "output_type": "execute_result"
    }
   ],
   "source": [
    "df[df.state == 'NC'].tail()"
   ]
  },
  {
   "cell_type": "code",
   "execution_count": 28,
   "id": "a84a4df3",
   "metadata": {},
   "outputs": [
    {
     "name": "stdout",
     "output_type": "stream",
     "text": [
      "<class 'str'>\n",
      "<class 'pandas._libs.tslibs.timestamps.Timestamp'>\n"
     ]
    }
   ],
   "source": [
    "print(type(df['date'][0]))\n",
    "\n",
    "df_date = df\n",
    "\n",
    "# data['AdmissionDate'] = pd.to_datetime(data['AdmissionDate'])\n",
    "df_date['date'] = pd.to_datetime(df_date['date'])\n",
    "\n",
    "print(type(df['date'][0]))"
   ]
  },
  {
   "cell_type": "code",
   "execution_count": 42,
   "id": "6c6b3704",
   "metadata": {},
   "outputs": [
    {
     "name": "stdout",
     "output_type": "stream",
     "text": [
      "<class 'pandas._libs.tslibs.timestamps.Timestamp'>\n"
     ]
    },
    {
     "name": "stderr",
     "output_type": "stream",
     "text": [
      "/Users/bromeostasis/Documents/personal/delaware/venv/lib/python3.7/site-packages/ipykernel_launcher.py:6: UserWarning: Boolean Series key will be reindexed to match DataFrame index.\n",
      "  \n"
     ]
    },
    {
     "data": {
      "text/plain": [
       "23357615"
      ]
     },
     "execution_count": 42,
     "metadata": {},
     "output_type": "execute_result"
    }
   ],
   "source": [
    "\n",
    "print(type(df['date'][0]))\n",
    "\n",
    "df_date = df_date.sort_values(by='date', ascending=False)\n",
    "df_date.head()\n",
    "\n",
    "df_date[df.state == 'NC'].iloc[0]['total_results_reported']"
   ]
  },
  {
   "cell_type": "code",
   "execution_count": 48,
   "id": "aea0f5ac",
   "metadata": {},
   "outputs": [
    {
     "name": "stdout",
     "output_type": "stream",
     "text": [
      "['Negative' 'Positive' 'Inconclusive']\n"
     ]
    },
    {
     "data": {
      "text/plain": [
       "56"
      ]
     },
     "execution_count": 48,
     "metadata": {},
     "output_type": "execute_result"
    }
   ],
   "source": [
    "print(df.overall_outcome.unique())\n",
    "len(df.state.unique())"
   ]
  },
  {
   "cell_type": "code",
   "execution_count": null,
   "id": "8a5f1d90",
   "metadata": {},
   "outputs": [],
   "source": []
  }
 ],
 "metadata": {
  "kernelspec": {
   "display_name": "Python 3 (ipykernel)",
   "language": "python",
   "name": "python3"
  },
  "language_info": {
   "codemirror_mode": {
    "name": "ipython",
    "version": 3
   },
   "file_extension": ".py",
   "mimetype": "text/x-python",
   "name": "python",
   "nbconvert_exporter": "python",
   "pygments_lexer": "ipython3",
   "version": "3.7.3"
  }
 },
 "nbformat": 4,
 "nbformat_minor": 5
}
