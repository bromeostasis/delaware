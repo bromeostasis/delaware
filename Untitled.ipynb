{
 "cells": [
  {
   "cell_type": "code",
   "execution_count": null,
   "id": "acc725ea",
   "metadata": {},
   "outputs": [],
   "source": [
    "#!/usr/bin/env python\n",
    "\n",
    "# make sure to install these packages before running:\n",
    "# pip install pandas\n",
    "# pip install sodapy\n",
    "\n",
    "import pandas as pd\n",
    "from sodapy import Socrata\n",
    "\n",
    "# Unauthenticated client only works with public data sets. Note 'None'\n",
    "# in place of application token, and no username or password:\n",
    "client = Socrata(\"healthdata.gov\", None)\n",
    "\n",
    "# Example authenticated client (needed for non-public datasets):\n",
    "# client = Socrata(healthdata.gov,\n",
    "#                  MyAppToken,\n",
    "#                  username=\"user@example.com\",\n",
    "#                  password=\"AFakePassword\")\n",
    "\n",
    "# First 2000 results, returned as JSON from API / converted to Python list of\n",
    "# dictionaries by sodapy.\n",
    "results = client.get(\"j8mb-icvb\", order='total_results_reported DESC', limit=6000)\n",
    "\n",
    "# Convert to pandas DataFrame\n",
    "df = pd.DataFrame.from_records(results)\n",
    "\n",
    "len(df)"
   ]
  },
  {
   "cell_type": "code",
   "execution_count": 201,
   "id": "24148650",
   "metadata": {},
   "outputs": [
    {
     "data": {
      "text/plain": [
       "state                             string\n",
       "state_name                        string\n",
       "state_fips                         int64\n",
       "fema_region                       string\n",
       "overall_outcome                   string\n",
       "date                      datetime64[ns]\n",
       "new_results_reported               int64\n",
       "total_results_reported             int64\n",
       "geocoded_state                   float64\n",
       "dtype: object"
      ]
     },
     "execution_count": 201,
     "metadata": {},
     "output_type": "execute_result"
    }
   ],
   "source": [
    "# Reset data\n",
    "\n",
    "df = pd.read_csv('data/Dataset.csv', dtype={\n",
    "    'state': 'string',\n",
    "    'state_name': 'string',\n",
    "    'state_fips': 'int64',\n",
    "    'fema_region': 'string',\n",
    "    'overall_outcome': 'string',\n",
    "    'new_results_reported': 'int64',\n",
    "    'total_results_reported': 'int64',\n",
    "    'geocoded_state': 'float64',\n",
    "})\n",
    "\n",
    "df['date'] = pd.to_datetime(df['date'])\n",
    "# df['new_results_reported'] = pd.to_numeric(df['new_results_reported'])\n",
    "\n",
    "df.dtypes"
   ]
  },
  {
   "cell_type": "code",
   "execution_count": null,
   "id": "a7160c29",
   "metadata": {},
   "outputs": [],
   "source": [
    "len(df)\n",
    "df.head()\n",
    "\n",
    "print(df.state_fips.unique())\n",
    "\n",
    "total = 0\n",
    "\n",
    "for fips in df.state_fips.unique():\n",
    "    pos = df.query(f'state_fips == {fips} & overall_outcome == \"Positive\"')['total_results_reported'].max()\n",
    "    neg = df.query(f'state_fips == {fips} & overall_outcome == \"Negative\"')['total_results_reported'].max()\n",
    "    inc = df.query(f'state_fips == {fips} & overall_outcome == \"Inconclusive\"')['total_results_reported'].max()\n",
    "    \n",
    "    if inc != inc:\n",
    "        print('nan!')\n",
    "        inc = 0\n",
    "    \n",
    "    total += pos + neg + inc\n",
    "    print(pos, neg, inc, total)\n",
    "    \n",
    "print('totalotal', total)"
   ]
  },
  {
   "cell_type": "code",
   "execution_count": null,
   "id": "4592f006",
   "metadata": {},
   "outputs": [],
   "source": [
    "df.query('state == \"NC\" and overall_outcome == \"Inconclusive\"')['total_results_reported'].max()"
   ]
  },
  {
   "cell_type": "code",
   "execution_count": null,
   "id": "0d0e372a",
   "metadata": {},
   "outputs": [],
   "source": [
    "df[df.state == 'NC'].tail()"
   ]
  },
  {
   "cell_type": "code",
   "execution_count": null,
   "id": "24870458",
   "metadata": {},
   "outputs": [],
   "source": [
    "print(type(df['date'][0]))\n",
    "\n",
    "df_date = df\n",
    "\n",
    "# data['AdmissionDate'] = pd.to_datetime(data['AdmissionDate'])\n",
    "df_date['date'] = pd.to_datetime(df_date['date'])\n",
    "\n",
    "print(type(df['date'][0]))"
   ]
  },
  {
   "cell_type": "code",
   "execution_count": null,
   "id": "9665b7fb",
   "metadata": {},
   "outputs": [],
   "source": [
    "\n",
    "print(type(df['date'][0]))\n",
    "\n",
    "df_date = df_date.sort_values(by='date', ascending=False)\n",
    "df_date.head()\n",
    "\n",
    "df_date[df.state == 'NC'].iloc[0]['total_results_reported']"
   ]
  },
  {
   "cell_type": "code",
   "execution_count": null,
   "id": "d7e92dbb",
   "metadata": {},
   "outputs": [],
   "source": [
    "print(df.overall_outcome.unique())\n",
    "len(df.state.unique())"
   ]
  },
  {
   "cell_type": "code",
   "execution_count": null,
   "id": "da840a5e",
   "metadata": {},
   "outputs": [],
   "source": [
    "import datetime\n",
    "\n",
    "now = datetime.datetime.now()\n",
    "thirtyseven = now - datetime.timedelta(days=37)\n",
    "\n",
    "print(now)\n",
    "print(thirtyseven)\n",
    "print(thirtyseven + datetime.timedelta(days=1))"
   ]
  },
  {
   "cell_type": "code",
   "execution_count": null,
   "id": "3d04603f",
   "metadata": {},
   "outputs": [],
   "source": [
    "datestr = f'{thirtyseven.year}-{thirtyseven.month}-{thirtyseven.day}' \n",
    "\n",
    "results = client.get(\"j8mb-icvb\", where=f'date >= \"{datestr}\"', limit=7000)\n",
    "\n",
    "df = pd.DataFrame.from_records(results)\n",
    "\n",
    "df['date'] = pd.to_datetime(df['date'])\n",
    "df['new_results_reported'] = pd.to_numeric(df['new_results_reported'])\n",
    "\n",
    "\n",
    "df.tail()"
   ]
  },
  {
   "cell_type": "code",
   "execution_count": null,
   "id": "ac831525",
   "metadata": {},
   "outputs": [],
   "source": [
    "df.query(f'date == \"{datestr}\"')['new_results_reported'].sum()\n",
    "\n",
    "# print(len(alab))\n",
    "# print(alab.tail())\n",
    "# print(alab.sum())\n",
    "# df['new_results_reported'].sum()"
   ]
  },
  {
   "cell_type": "code",
   "execution_count": null,
   "id": "d5d6e9df",
   "metadata": {},
   "outputs": [],
   "source": [
    "df.dtypes\n",
    "df['new_results_reported'] = pd.to_numeric(df['new_results_reported'])\n",
    "df.dtypes"
   ]
  },
  {
   "cell_type": "code",
   "execution_count": null,
   "id": "320b3b9e",
   "metadata": {},
   "outputs": [],
   "source": [
    "sum = df.query(f'date >= \"2023-02-21\" & date <= \"2023-02-27\"')['new_results_reported'].sum()\n",
    "\n",
    "sum / 7\n"
   ]
  },
  {
   "cell_type": "code",
   "execution_count": null,
   "id": "c299a156",
   "metadata": {},
   "outputs": [],
   "source": [
    "d = [1, 2, 3]\n",
    "d.pop(0)\n",
    "d"
   ]
  },
  {
   "cell_type": "code",
   "execution_count": 169,
   "id": "39e94273",
   "metadata": {},
   "outputs": [
    {
     "data": {
      "text/html": [
       "<div>\n",
       "<style scoped>\n",
       "    .dataframe tbody tr th:only-of-type {\n",
       "        vertical-align: middle;\n",
       "    }\n",
       "\n",
       "    .dataframe tbody tr th {\n",
       "        vertical-align: top;\n",
       "    }\n",
       "\n",
       "    .dataframe thead th {\n",
       "        text-align: right;\n",
       "    }\n",
       "</style>\n",
       "<table border=\"1\" class=\"dataframe\">\n",
       "  <thead>\n",
       "    <tr style=\"text-align: right;\">\n",
       "      <th></th>\n",
       "      <th>state</th>\n",
       "      <th>state_name</th>\n",
       "      <th>state_fips</th>\n",
       "      <th>fema_region</th>\n",
       "      <th>overall_outcome</th>\n",
       "      <th>date</th>\n",
       "      <th>new_results_reported</th>\n",
       "      <th>total_results_reported</th>\n",
       "    </tr>\n",
       "  </thead>\n",
       "  <tbody>\n",
       "    <tr>\n",
       "      <th>1296</th>\n",
       "      <td>AL</td>\n",
       "      <td>Alabama</td>\n",
       "      <td>01</td>\n",
       "      <td>Region 4</td>\n",
       "      <td>Inconclusive</td>\n",
       "      <td>2023-02-27</td>\n",
       "      <td>0</td>\n",
       "      <td>18717</td>\n",
       "    </tr>\n",
       "    <tr>\n",
       "      <th>1297</th>\n",
       "      <td>AL</td>\n",
       "      <td>Alabama</td>\n",
       "      <td>01</td>\n",
       "      <td>Region 4</td>\n",
       "      <td>Negative</td>\n",
       "      <td>2023-02-27</td>\n",
       "      <td>1903</td>\n",
       "      <td>7819081</td>\n",
       "    </tr>\n",
       "    <tr>\n",
       "      <th>1298</th>\n",
       "      <td>AL</td>\n",
       "      <td>Alabama</td>\n",
       "      <td>01</td>\n",
       "      <td>Region 4</td>\n",
       "      <td>Positive</td>\n",
       "      <td>2023-02-27</td>\n",
       "      <td>303</td>\n",
       "      <td>1280029</td>\n",
       "    </tr>\n",
       "    <tr>\n",
       "      <th>1299</th>\n",
       "      <td>AK</td>\n",
       "      <td>Alaska</td>\n",
       "      <td>02</td>\n",
       "      <td>Region 10</td>\n",
       "      <td>Inconclusive</td>\n",
       "      <td>2023-02-27</td>\n",
       "      <td>0</td>\n",
       "      <td>5249</td>\n",
       "    </tr>\n",
       "    <tr>\n",
       "      <th>1300</th>\n",
       "      <td>AK</td>\n",
       "      <td>Alaska</td>\n",
       "      <td>02</td>\n",
       "      <td>Region 10</td>\n",
       "      <td>Negative</td>\n",
       "      <td>2023-02-27</td>\n",
       "      <td>609</td>\n",
       "      <td>4359383</td>\n",
       "    </tr>\n",
       "  </tbody>\n",
       "</table>\n",
       "</div>"
      ],
      "text/plain": [
       "     state state_name state_fips fema_region overall_outcome       date  \\\n",
       "1296    AL    Alabama         01    Region 4    Inconclusive 2023-02-27   \n",
       "1297    AL    Alabama         01    Region 4        Negative 2023-02-27   \n",
       "1298    AL    Alabama         01    Region 4        Positive 2023-02-27   \n",
       "1299    AK     Alaska         02   Region 10    Inconclusive 2023-02-27   \n",
       "1300    AK     Alaska         02   Region 10        Negative 2023-02-27   \n",
       "\n",
       "      new_results_reported total_results_reported  \n",
       "1296                     0                  18717  \n",
       "1297                  1903                7819081  \n",
       "1298                   303                1280029  \n",
       "1299                     0                   5249  \n",
       "1300                   609                4359383  "
      ]
     },
     "execution_count": 169,
     "metadata": {},
     "output_type": "execute_result"
    }
   ],
   "source": [
    "# Data from last thirty days\n",
    "\n",
    "thirty = now - datetime.timedelta(days=30)\n",
    "\n",
    "datestr = f'{thirty.year}-{thirty.month}-{thirty.day}' \n",
    "\n",
    "# results = client.get(\"j8mb-icvb\", where=f'date >= \"{datestr}\"', limit=7000)\n",
    "\n",
    "df = pd.DataFrame.from_records(results)\n",
    "\n",
    "df['date'] = pd.to_datetime(df['date'])\n",
    "df['new_results_reported'] = pd.to_numeric(df['new_results_reported'])\n",
    "\n",
    "df = df[df.date > datestr]\n",
    "\n",
    "df.head()"
   ]
  },
  {
   "cell_type": "code",
   "execution_count": null,
   "id": "53739750",
   "metadata": {},
   "outputs": [],
   "source": [
    "al = df[df.state == 'AZ']\n",
    "\n",
    "print(al.head())\n",
    "\n",
    "total = al['new_results_reported'].sum()\n",
    "positive = al[df.overall_outcome == 'Positive']['new_results_reported'].sum()\n",
    "\n",
    "print(total, positive, positive/total)"
   ]
  },
  {
   "cell_type": "code",
   "execution_count": 166,
   "id": "d3907480",
   "metadata": {},
   "outputs": [
    {
     "name": "stdout",
     "output_type": "stream",
     "text": [
      "2023-03-26 10:30:42.674896 2023-03-19 10:30:42.674896\n"
     ]
    },
    {
     "data": {
      "text/plain": [
       "131104.85714285713"
      ]
     },
     "execution_count": 166,
     "metadata": {},
     "output_type": "execute_result"
    }
   ],
   "source": [
    "# Verify part 2\n",
    "\n",
    "randoday = now - datetime.timedelta(days=2)\n",
    "week_before = randoday - datetime.timedelta(days=7)\n",
    "\n",
    "print(randoday, week_before)\n",
    "\n",
    "df_range = df.query(f'date >= \"{str(week_before)}\" & date <= \"{str(randoday)}\"')\n",
    "\n",
    "df_range.tail()\n",
    "\n",
    "df_range['new_results_reported'].sum() / 7"
   ]
  },
  {
   "cell_type": "code",
   "execution_count": 179,
   "id": "41268aa5",
   "metadata": {},
   "outputs": [
    {
     "name": "stdout",
     "output_type": "stream",
     "text": [
      "3429 15011 0.228432482845913\n"
     ]
    },
    {
     "name": "stderr",
     "output_type": "stream",
     "text": [
      "/Users/bromeostasis/Documents/personal/delaware/venv/lib/python3.7/site-packages/ipykernel_launcher.py:6: UserWarning: Boolean Series key will be reindexed to match DataFrame index.\n",
      "  \n"
     ]
    },
    {
     "data": {
      "text/plain": [
       "array(['2023-02-27T00:00:00.000000000', '2023-02-28T00:00:00.000000000',\n",
       "       '2023-03-01T00:00:00.000000000', '2023-03-02T00:00:00.000000000',\n",
       "       '2023-03-03T00:00:00.000000000', '2023-03-04T00:00:00.000000000',\n",
       "       '2023-03-05T00:00:00.000000000', '2023-03-06T00:00:00.000000000',\n",
       "       '2023-03-07T00:00:00.000000000', '2023-03-08T00:00:00.000000000',\n",
       "       '2023-03-09T00:00:00.000000000', '2023-03-10T00:00:00.000000000',\n",
       "       '2023-03-11T00:00:00.000000000', '2023-03-12T00:00:00.000000000',\n",
       "       '2023-03-13T00:00:00.000000000', '2023-03-14T00:00:00.000000000',\n",
       "       '2023-03-15T00:00:00.000000000', '2023-03-16T00:00:00.000000000',\n",
       "       '2023-03-17T00:00:00.000000000', '2023-03-18T00:00:00.000000000',\n",
       "       '2023-03-19T00:00:00.000000000', '2023-03-20T00:00:00.000000000',\n",
       "       '2023-03-21T00:00:00.000000000', '2023-03-22T00:00:00.000000000',\n",
       "       '2023-03-23T00:00:00.000000000', '2023-03-24T00:00:00.000000000',\n",
       "       '2023-03-25T00:00:00.000000000'], dtype='datetime64[ns]')"
      ]
     },
     "execution_count": 179,
     "metadata": {},
     "output_type": "execute_result"
    }
   ],
   "source": [
    "# Verify part 3\n",
    "\n",
    "df_state = df[df.state == 'SD']\n",
    "\n",
    "total = df_state['new_results_reported'].sum()\n",
    "positive = df_state[df.overall_outcome == 'Positive']['new_results_reported'].sum()\n",
    "\n",
    "print(positive, total, positive / total)\n",
    "\n",
    "df_state.tail()\n",
    "df_state.date.unique()"
   ]
  },
  {
   "cell_type": "code",
   "execution_count": 194,
   "id": "354e32ac",
   "metadata": {},
   "outputs": [
    {
     "name": "stdout",
     "output_type": "stream",
     "text": [
      "('2023-2-26', 263674.29) ('2023-2-27', 271143.86) ('2023-2-28', 270480.14) ('2023-3-1', 265090.57) ('2023-3-2', 262166.57) ('2023-3-3', 256812.86) ('2023-3-4', 251755.57) ('2023-3-5', 245728.43) ('2023-3-6', 234417.86) ('2023-3-7', 226726.14) ('2023-3-8', 227869.57) ('2023-3-9', 228495.57) ('2023-3-10', 229340.29) ('2023-3-11', 232213.29) ('2023-3-12', 235701.86) ('2023-3-13', 244838.71) ('2023-3-14', 252249.86) ('2023-3-15', 249375.86) ('2023-3-16', 246066.43) ('2023-3-17', 243332.14) ('2023-3-18', 240871.43) ('2023-3-19', 239187.43) ('2023-3-20', 229209.71) ('2023-3-21', 216778.71) ('2023-3-22', 204276.43) ('2023-3-23', 185357.43) ('2023-3-24', 165752.0) ('2023-3-25', 148636.71) ('2023-3-26', 131104.86) ('2023-3-27', 104485.86)\n",
      "<zip object at 0x7fb616c5fb08>\n",
      "('2023-2-26', '2023-2-27', '2023-2-28', '2023-3-1', '2023-3-2', '2023-3-3', '2023-3-4', '2023-3-5', '2023-3-6', '2023-3-7', '2023-3-8', '2023-3-9', '2023-3-10', '2023-3-11', '2023-3-12', '2023-3-13', '2023-3-14', '2023-3-15', '2023-3-16', '2023-3-17', '2023-3-18', '2023-3-19', '2023-3-20', '2023-3-21', '2023-3-22', '2023-3-23', '2023-3-24', '2023-3-25', '2023-3-26', '2023-3-27') (263674.29, 271143.86, 270480.14, 265090.57, 262166.57, 256812.86, 251755.57, 245728.43, 234417.86, 226726.14, 227869.57, 228495.57, 229340.29, 232213.29, 235701.86, 244838.71, 252249.86, 249375.86, 246066.43, 243332.14, 240871.43, 239187.43, 229209.71, 216778.71, 204276.43, 185357.43, 165752.0, 148636.71, 131104.86, 104485.86)\n"
     ]
    }
   ],
   "source": [
    "import matplotlib.pyplot as plt\n",
    "\n",
    "plot_data = [('2023-2-26', 263674.29), ('2023-2-27', 271143.86), ('2023-2-28', 270480.14), ('2023-3-1', 265090.57), ('2023-3-2', 262166.57), ('2023-3-3', 256812.86), ('2023-3-4', 251755.57), ('2023-3-5', 245728.43), ('2023-3-6', 234417.86), ('2023-3-7', 226726.14), ('2023-3-8', 227869.57), ('2023-3-9', 228495.57), ('2023-3-10', 229340.29), ('2023-3-11', 232213.29), ('2023-3-12', 235701.86), ('2023-3-13', 244838.71), ('2023-3-14', 252249.86), ('2023-3-15', 249375.86), ('2023-3-16', 246066.43), ('2023-3-17', 243332.14), ('2023-3-18', 240871.43), ('2023-3-19', 239187.43), ('2023-3-20', 229209.71), ('2023-3-21', 216778.71), ('2023-3-22', 204276.43), ('2023-3-23', 185357.43), ('2023-3-24', 165752.0), ('2023-3-25', 148636.71), ('2023-3-26', 131104.86), ('2023-3-27', 104485.86)]\n",
    "\n",
    "# plt.plot(*zip(*plot_data))\n",
    "# plt.gca().xaxis.set_major_locator(plt.MultipleLocator(6))\n",
    "# plt.title('Random Figure')\n",
    "# plt.xlabel('Date')\n",
    "# plt.ylabel('Rolling Average')\n",
    "# plt.show()\n",
    "\n",
    "print(*plot_data)\n",
    "print(zip(*plot_data))\n",
    "print(*zip(*plot_data))"
   ]
  },
  {
   "cell_type": "code",
   "execution_count": null,
   "id": "5ca51b1a",
   "metadata": {},
   "outputs": [],
   "source": []
  }
 ],
 "metadata": {
  "kernelspec": {
   "display_name": "Python 3 (ipykernel)",
   "language": "python",
   "name": "python3"
  },
  "language_info": {
   "codemirror_mode": {
    "name": "ipython",
    "version": 3
   },
   "file_extension": ".py",
   "mimetype": "text/x-python",
   "name": "python",
   "nbconvert_exporter": "python",
   "pygments_lexer": "ipython3",
   "version": "3.7.3"
  }
 },
 "nbformat": 4,
 "nbformat_minor": 5
}
