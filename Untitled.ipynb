{
 "cells": [
  {
   "cell_type": "code",
   "execution_count": 9,
   "id": "acc725ea",
   "metadata": {},
   "outputs": [
    {
     "name": "stderr",
     "output_type": "stream",
     "text": [
      "WARNING:root:Requests made without an app_token will be subject to strict throttling limits.\n"
     ]
    },
    {
     "data": {
      "text/plain": [
       "6000"
      ]
     },
     "execution_count": 9,
     "metadata": {},
     "output_type": "execute_result"
    }
   ],
   "source": [
    "#!/usr/bin/env python\n",
    "\n",
    "# make sure to install these packages before running:\n",
    "# pip install pandas\n",
    "# pip install sodapy\n",
    "\n",
    "import pandas as pd\n",
    "from sodapy import Socrata\n",
    "\n",
    "# Unauthenticated client only works with public data sets. Note 'None'\n",
    "# in place of application token, and no username or password:\n",
    "client = Socrata(\"healthdata.gov\", None)\n",
    "\n",
    "# Example authenticated client (needed for non-public datasets):\n",
    "# client = Socrata(healthdata.gov,\n",
    "#                  MyAppToken,\n",
    "#                  username=\"user@example.com\",\n",
    "#                  password=\"AFakePassword\")\n",
    "\n",
    "# First 2000 results, returned as JSON from API / converted to Python list of\n",
    "# dictionaries by sodapy.\n",
    "results = client.get(\"j8mb-icvb\", order='total_results_reported DESC', limit=6000)\n",
    "\n",
    "# Convert to pandas DataFrame\n",
    "df = pd.DataFrame.from_records(results)\n",
    "\n",
    "len(df)"
   ]
  },
  {
   "cell_type": "code",
   "execution_count": 14,
   "id": "647f7fa5",
   "metadata": {},
   "outputs": [],
   "source": [
    "df = pd.read_csv('data/Dataset.csv')"
   ]
  },
  {
   "cell_type": "code",
   "execution_count": 15,
   "id": "a7160c29",
   "metadata": {},
   "outputs": [
    {
     "data": {
      "text/html": [
       "<div>\n",
       "<style scoped>\n",
       "    .dataframe tbody tr th:only-of-type {\n",
       "        vertical-align: middle;\n",
       "    }\n",
       "\n",
       "    .dataframe tbody tr th {\n",
       "        vertical-align: top;\n",
       "    }\n",
       "\n",
       "    .dataframe thead th {\n",
       "        text-align: right;\n",
       "    }\n",
       "</style>\n",
       "<table border=\"1\" class=\"dataframe\">\n",
       "  <thead>\n",
       "    <tr style=\"text-align: right;\">\n",
       "      <th></th>\n",
       "      <th>state</th>\n",
       "      <th>state_name</th>\n",
       "      <th>state_fips</th>\n",
       "      <th>fema_region</th>\n",
       "      <th>overall_outcome</th>\n",
       "      <th>date</th>\n",
       "      <th>new_results_reported</th>\n",
       "      <th>total_results_reported</th>\n",
       "      <th>geocoded_state</th>\n",
       "    </tr>\n",
       "  </thead>\n",
       "  <tbody>\n",
       "    <tr>\n",
       "      <th>0</th>\n",
       "      <td>AL</td>\n",
       "      <td>Alabama</td>\n",
       "      <td>1</td>\n",
       "      <td>Region 4</td>\n",
       "      <td>Negative</td>\n",
       "      <td>2020/03/01</td>\n",
       "      <td>96</td>\n",
       "      <td>96</td>\n",
       "      <td>NaN</td>\n",
       "    </tr>\n",
       "    <tr>\n",
       "      <th>1</th>\n",
       "      <td>AL</td>\n",
       "      <td>Alabama</td>\n",
       "      <td>1</td>\n",
       "      <td>Region 4</td>\n",
       "      <td>Positive</td>\n",
       "      <td>2020/03/01</td>\n",
       "      <td>16</td>\n",
       "      <td>16</td>\n",
       "      <td>NaN</td>\n",
       "    </tr>\n",
       "    <tr>\n",
       "      <th>2</th>\n",
       "      <td>AL</td>\n",
       "      <td>Alabama</td>\n",
       "      <td>1</td>\n",
       "      <td>Region 4</td>\n",
       "      <td>Negative</td>\n",
       "      <td>2020/03/02</td>\n",
       "      <td>72</td>\n",
       "      <td>168</td>\n",
       "      <td>NaN</td>\n",
       "    </tr>\n",
       "    <tr>\n",
       "      <th>3</th>\n",
       "      <td>AL</td>\n",
       "      <td>Alabama</td>\n",
       "      <td>1</td>\n",
       "      <td>Region 4</td>\n",
       "      <td>Positive</td>\n",
       "      <td>2020/03/02</td>\n",
       "      <td>6</td>\n",
       "      <td>22</td>\n",
       "      <td>NaN</td>\n",
       "    </tr>\n",
       "    <tr>\n",
       "      <th>4</th>\n",
       "      <td>AL</td>\n",
       "      <td>Alabama</td>\n",
       "      <td>1</td>\n",
       "      <td>Region 4</td>\n",
       "      <td>Negative</td>\n",
       "      <td>2020/03/03</td>\n",
       "      <td>94</td>\n",
       "      <td>262</td>\n",
       "      <td>NaN</td>\n",
       "    </tr>\n",
       "  </tbody>\n",
       "</table>\n",
       "</div>"
      ],
      "text/plain": [
       "  state state_name  state_fips fema_region overall_outcome        date  \\\n",
       "0    AL    Alabama           1    Region 4        Negative  2020/03/01   \n",
       "1    AL    Alabama           1    Region 4        Positive  2020/03/01   \n",
       "2    AL    Alabama           1    Region 4        Negative  2020/03/02   \n",
       "3    AL    Alabama           1    Region 4        Positive  2020/03/02   \n",
       "4    AL    Alabama           1    Region 4        Negative  2020/03/03   \n",
       "\n",
       "   new_results_reported  total_results_reported  geocoded_state  \n",
       "0                    96                      96             NaN  \n",
       "1                    16                      16             NaN  \n",
       "2                    72                     168             NaN  \n",
       "3                     6                      22             NaN  \n",
       "4                    94                     262             NaN  "
      ]
     },
     "execution_count": 15,
     "metadata": {},
     "output_type": "execute_result"
    }
   ],
   "source": [
    "len(df)\n",
    "df.head()"
   ]
  },
  {
   "cell_type": "code",
   "execution_count": 25,
   "id": "4592f006",
   "metadata": {},
   "outputs": [
    {
     "data": {
      "text/plain": [
       "38099"
      ]
     },
     "execution_count": 25,
     "metadata": {},
     "output_type": "execute_result"
    }
   ],
   "source": [
    "df.query('state == \"NC\" and overall_outcome == \"Inconclusive\"')['total_results_reported'].max()"
   ]
  },
  {
   "cell_type": "code",
   "execution_count": 21,
   "id": "3b517727",
   "metadata": {},
   "outputs": [
    {
     "data": {
      "text/html": [
       "<div>\n",
       "<style scoped>\n",
       "    .dataframe tbody tr th:only-of-type {\n",
       "        vertical-align: middle;\n",
       "    }\n",
       "\n",
       "    .dataframe tbody tr th {\n",
       "        vertical-align: top;\n",
       "    }\n",
       "\n",
       "    .dataframe thead th {\n",
       "        text-align: right;\n",
       "    }\n",
       "</style>\n",
       "<table border=\"1\" class=\"dataframe\">\n",
       "  <thead>\n",
       "    <tr style=\"text-align: right;\">\n",
       "      <th></th>\n",
       "      <th>state</th>\n",
       "      <th>state_name</th>\n",
       "      <th>state_fips</th>\n",
       "      <th>fema_region</th>\n",
       "      <th>overall_outcome</th>\n",
       "      <th>date</th>\n",
       "      <th>new_results_reported</th>\n",
       "      <th>total_results_reported</th>\n",
       "      <th>geocoded_state</th>\n",
       "    </tr>\n",
       "  </thead>\n",
       "  <tbody>\n",
       "    <tr>\n",
       "      <th>118105</th>\n",
       "      <td>NC</td>\n",
       "      <td>North Carolina</td>\n",
       "      <td>37</td>\n",
       "      <td>Region 4</td>\n",
       "      <td>Negative</td>\n",
       "      <td>2023/03/24</td>\n",
       "      <td>5403</td>\n",
       "      <td>23354964</td>\n",
       "      <td>NaN</td>\n",
       "    </tr>\n",
       "    <tr>\n",
       "      <th>118106</th>\n",
       "      <td>NC</td>\n",
       "      <td>North Carolina</td>\n",
       "      <td>37</td>\n",
       "      <td>Region 4</td>\n",
       "      <td>Positive</td>\n",
       "      <td>2023/03/24</td>\n",
       "      <td>316</td>\n",
       "      <td>3061329</td>\n",
       "      <td>NaN</td>\n",
       "    </tr>\n",
       "    <tr>\n",
       "      <th>118107</th>\n",
       "      <td>NC</td>\n",
       "      <td>North Carolina</td>\n",
       "      <td>37</td>\n",
       "      <td>Region 4</td>\n",
       "      <td>Inconclusive</td>\n",
       "      <td>2023/03/25</td>\n",
       "      <td>0</td>\n",
       "      <td>38099</td>\n",
       "      <td>NaN</td>\n",
       "    </tr>\n",
       "    <tr>\n",
       "      <th>118108</th>\n",
       "      <td>NC</td>\n",
       "      <td>North Carolina</td>\n",
       "      <td>37</td>\n",
       "      <td>Region 4</td>\n",
       "      <td>Negative</td>\n",
       "      <td>2023/03/25</td>\n",
       "      <td>2651</td>\n",
       "      <td>23357615</td>\n",
       "      <td>NaN</td>\n",
       "    </tr>\n",
       "    <tr>\n",
       "      <th>118109</th>\n",
       "      <td>NC</td>\n",
       "      <td>North Carolina</td>\n",
       "      <td>37</td>\n",
       "      <td>Region 4</td>\n",
       "      <td>Positive</td>\n",
       "      <td>2023/03/25</td>\n",
       "      <td>189</td>\n",
       "      <td>3061518</td>\n",
       "      <td>NaN</td>\n",
       "    </tr>\n",
       "  </tbody>\n",
       "</table>\n",
       "</div>"
      ],
      "text/plain": [
       "       state      state_name  state_fips fema_region overall_outcome  \\\n",
       "118105    NC  North Carolina          37    Region 4        Negative   \n",
       "118106    NC  North Carolina          37    Region 4        Positive   \n",
       "118107    NC  North Carolina          37    Region 4    Inconclusive   \n",
       "118108    NC  North Carolina          37    Region 4        Negative   \n",
       "118109    NC  North Carolina          37    Region 4        Positive   \n",
       "\n",
       "              date  new_results_reported  total_results_reported  \\\n",
       "118105  2023/03/24                  5403                23354964   \n",
       "118106  2023/03/24                   316                 3061329   \n",
       "118107  2023/03/25                     0                   38099   \n",
       "118108  2023/03/25                  2651                23357615   \n",
       "118109  2023/03/25                   189                 3061518   \n",
       "\n",
       "        geocoded_state  \n",
       "118105             NaN  \n",
       "118106             NaN  \n",
       "118107             NaN  \n",
       "118108             NaN  \n",
       "118109             NaN  "
      ]
     },
     "execution_count": 21,
     "metadata": {},
     "output_type": "execute_result"
    }
   ],
   "source": [
    "df[df.state == 'NC'].tail()"
   ]
  },
  {
   "cell_type": "code",
   "execution_count": 28,
   "id": "6e7ca7ad",
   "metadata": {},
   "outputs": [
    {
     "name": "stdout",
     "output_type": "stream",
     "text": [
      "<class 'str'>\n",
      "<class 'pandas._libs.tslibs.timestamps.Timestamp'>\n"
     ]
    }
   ],
   "source": [
    "print(type(df['date'][0]))\n",
    "\n",
    "df_date = df\n",
    "\n",
    "# data['AdmissionDate'] = pd.to_datetime(data['AdmissionDate'])\n",
    "df_date['date'] = pd.to_datetime(df_date['date'])\n",
    "\n",
    "print(type(df['date'][0]))"
   ]
  },
  {
   "cell_type": "code",
   "execution_count": 42,
   "id": "c2466b92",
   "metadata": {},
   "outputs": [
    {
     "name": "stdout",
     "output_type": "stream",
     "text": [
      "<class 'pandas._libs.tslibs.timestamps.Timestamp'>\n"
     ]
    },
    {
     "name": "stderr",
     "output_type": "stream",
     "text": [
      "/Users/bromeostasis/Documents/personal/delaware/venv/lib/python3.7/site-packages/ipykernel_launcher.py:6: UserWarning: Boolean Series key will be reindexed to match DataFrame index.\n",
      "  \n"
     ]
    },
    {
     "data": {
      "text/plain": [
       "23357615"
      ]
     },
     "execution_count": 42,
     "metadata": {},
     "output_type": "execute_result"
    }
   ],
   "source": [
    "\n",
    "print(type(df['date'][0]))\n",
    "\n",
    "df_date = df_date.sort_values(by='date', ascending=False)\n",
    "df_date.head()\n",
    "\n",
    "df_date[df.state == 'NC'].iloc[0]['total_results_reported']"
   ]
  },
  {
   "cell_type": "code",
   "execution_count": 48,
   "id": "d1b6e440",
   "metadata": {},
   "outputs": [
    {
     "name": "stdout",
     "output_type": "stream",
     "text": [
      "['Negative' 'Positive' 'Inconclusive']\n"
     ]
    },
    {
     "data": {
      "text/plain": [
       "56"
      ]
     },
     "execution_count": 48,
     "metadata": {},
     "output_type": "execute_result"
    }
   ],
   "source": [
    "print(df.overall_outcome.unique())\n",
    "len(df.state.unique())"
   ]
  },
  {
   "cell_type": "code",
   "execution_count": 51,
   "id": "8a863f47",
   "metadata": {},
   "outputs": [
    {
     "name": "stdout",
     "output_type": "stream",
     "text": [
      "2023-03-28 10:30:42.674896\n",
      "2023-02-19 10:30:42.674896\n",
      "2023-02-20 10:30:42.674896\n"
     ]
    }
   ],
   "source": [
    "import datetime\n",
    "\n",
    "now = datetime.datetime.now()\n",
    "thirtyseven = now - datetime.timedelta(days=37)\n",
    "\n",
    "print(now)\n",
    "print(thirtyseven)\n",
    "print(thirtyseven + datetime.timedelta(days=1))"
   ]
  },
  {
   "cell_type": "code",
   "execution_count": 112,
   "id": "7d841dc6",
   "metadata": {},
   "outputs": [
    {
     "data": {
      "text/html": [
       "<div>\n",
       "<style scoped>\n",
       "    .dataframe tbody tr th:only-of-type {\n",
       "        vertical-align: middle;\n",
       "    }\n",
       "\n",
       "    .dataframe tbody tr th {\n",
       "        vertical-align: top;\n",
       "    }\n",
       "\n",
       "    .dataframe thead th {\n",
       "        text-align: right;\n",
       "    }\n",
       "</style>\n",
       "<table border=\"1\" class=\"dataframe\">\n",
       "  <thead>\n",
       "    <tr style=\"text-align: right;\">\n",
       "      <th></th>\n",
       "      <th>state</th>\n",
       "      <th>state_name</th>\n",
       "      <th>state_fips</th>\n",
       "      <th>fema_region</th>\n",
       "      <th>overall_outcome</th>\n",
       "      <th>date</th>\n",
       "      <th>new_results_reported</th>\n",
       "      <th>total_results_reported</th>\n",
       "    </tr>\n",
       "  </thead>\n",
       "  <tbody>\n",
       "    <tr>\n",
       "      <th>5557</th>\n",
       "      <td>WI</td>\n",
       "      <td>Wisconsin</td>\n",
       "      <td>55</td>\n",
       "      <td>Region 5</td>\n",
       "      <td>Negative</td>\n",
       "      <td>2023-03-25</td>\n",
       "      <td>1994</td>\n",
       "      <td>17407811</td>\n",
       "    </tr>\n",
       "    <tr>\n",
       "      <th>5558</th>\n",
       "      <td>WI</td>\n",
       "      <td>Wisconsin</td>\n",
       "      <td>55</td>\n",
       "      <td>Region 5</td>\n",
       "      <td>Positive</td>\n",
       "      <td>2023-03-25</td>\n",
       "      <td>250</td>\n",
       "      <td>1914315</td>\n",
       "    </tr>\n",
       "    <tr>\n",
       "      <th>5559</th>\n",
       "      <td>WY</td>\n",
       "      <td>Wyoming</td>\n",
       "      <td>56</td>\n",
       "      <td>Region 8</td>\n",
       "      <td>Inconclusive</td>\n",
       "      <td>2023-03-25</td>\n",
       "      <td>0</td>\n",
       "      <td>4013</td>\n",
       "    </tr>\n",
       "    <tr>\n",
       "      <th>5560</th>\n",
       "      <td>WY</td>\n",
       "      <td>Wyoming</td>\n",
       "      <td>56</td>\n",
       "      <td>Region 8</td>\n",
       "      <td>Negative</td>\n",
       "      <td>2023-03-25</td>\n",
       "      <td>23</td>\n",
       "      <td>1431806</td>\n",
       "    </tr>\n",
       "    <tr>\n",
       "      <th>5561</th>\n",
       "      <td>WY</td>\n",
       "      <td>Wyoming</td>\n",
       "      <td>56</td>\n",
       "      <td>Region 8</td>\n",
       "      <td>Positive</td>\n",
       "      <td>2023-03-25</td>\n",
       "      <td>1</td>\n",
       "      <td>137399</td>\n",
       "    </tr>\n",
       "  </tbody>\n",
       "</table>\n",
       "</div>"
      ],
      "text/plain": [
       "     state state_name state_fips fema_region overall_outcome       date  \\\n",
       "5557    WI  Wisconsin         55    Region 5        Negative 2023-03-25   \n",
       "5558    WI  Wisconsin         55    Region 5        Positive 2023-03-25   \n",
       "5559    WY    Wyoming         56    Region 8    Inconclusive 2023-03-25   \n",
       "5560    WY    Wyoming         56    Region 8        Negative 2023-03-25   \n",
       "5561    WY    Wyoming         56    Region 8        Positive 2023-03-25   \n",
       "\n",
       "      new_results_reported total_results_reported  \n",
       "5557                  1994               17407811  \n",
       "5558                   250                1914315  \n",
       "5559                     0                   4013  \n",
       "5560                    23                1431806  \n",
       "5561                     1                 137399  "
      ]
     },
     "execution_count": 112,
     "metadata": {},
     "output_type": "execute_result"
    }
   ],
   "source": [
    "datestr = f'{thirtyseven.year}-{thirtyseven.month}-{thirtyseven.day}' \n",
    "\n",
    "results = client.get(\"j8mb-icvb\", where=f'date >= \"{datestr}\"', limit=7000)\n",
    "\n",
    "df = pd.DataFrame.from_records(results)\n",
    "\n",
    "df['date'] = pd.to_datetime(df['date'])\n",
    "df['new_results_reported'] = pd.to_numeric(df['new_results_reported'])\n",
    "\n",
    "\n",
    "df.tail()"
   ]
  },
  {
   "cell_type": "code",
   "execution_count": 107,
   "id": "f4a8ad92",
   "metadata": {},
   "outputs": [
    {
     "data": {
      "text/plain": [
       "144251"
      ]
     },
     "execution_count": 107,
     "metadata": {},
     "output_type": "execute_result"
    }
   ],
   "source": [
    "df.query(f'date == \"{datestr}\"')['new_results_reported'].sum()\n",
    "\n",
    "# print(len(alab))\n",
    "# print(alab.tail())\n",
    "# print(alab.sum())\n",
    "# df['new_results_reported'].sum()"
   ]
  },
  {
   "cell_type": "code",
   "execution_count": 101,
   "id": "c4785d6b",
   "metadata": {},
   "outputs": [
    {
     "data": {
      "text/plain": [
       "state                             object\n",
       "state_name                        object\n",
       "state_fips                        object\n",
       "fema_region                       object\n",
       "overall_outcome                   object\n",
       "date                      datetime64[ns]\n",
       "new_results_reported               int64\n",
       "total_results_reported            object\n",
       "dtype: object"
      ]
     },
     "execution_count": 101,
     "metadata": {},
     "output_type": "execute_result"
    }
   ],
   "source": [
    "df.dtypes\n",
    "df['new_results_reported'] = pd.to_numeric(df['new_results_reported'])\n",
    "df.dtypes"
   ]
  },
  {
   "cell_type": "code",
   "execution_count": 121,
   "id": "d85e8f02",
   "metadata": {},
   "outputs": [
    {
     "data": {
      "text/plain": [
       "271143.85714285716"
      ]
     },
     "execution_count": 121,
     "metadata": {},
     "output_type": "execute_result"
    }
   ],
   "source": [
    "sum = df.query(f'date >= \"2023-02-21\" & date <= \"2023-02-27\"')['new_results_reported'].sum()\n",
    "\n",
    "sum / 7\n"
   ]
  },
  {
   "cell_type": "code",
   "execution_count": 114,
   "id": "71c8f4a2",
   "metadata": {},
   "outputs": [
    {
     "data": {
      "text/plain": [
       "[2, 3]"
      ]
     },
     "execution_count": 114,
     "metadata": {},
     "output_type": "execute_result"
    }
   ],
   "source": [
    "d = [1, 2, 3]\n",
    "d.pop(0)\n",
    "d"
   ]
  },
  {
   "cell_type": "code",
   "execution_count": null,
   "id": "b6082bb9",
   "metadata": {},
   "outputs": [],
   "source": []
  }
 ],
 "metadata": {
  "kernelspec": {
   "display_name": "Python 3 (ipykernel)",
   "language": "python",
   "name": "python3"
  },
  "language_info": {
   "codemirror_mode": {
    "name": "ipython",
    "version": 3
   },
   "file_extension": ".py",
   "mimetype": "text/x-python",
   "name": "python",
   "nbconvert_exporter": "python",
   "pygments_lexer": "ipython3",
   "version": "3.7.3"
  }
 },
 "nbformat": 4,
 "nbformat_minor": 5
}
